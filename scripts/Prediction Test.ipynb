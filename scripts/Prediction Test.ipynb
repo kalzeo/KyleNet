{
 "cells": [
  {
   "cell_type": "code",
   "execution_count": 53,
   "metadata": {
    "collapsed": true,
    "pycharm": {
     "name": "#%%\n"
    }
   },
   "outputs": [],
   "source": [
    "import numpy as np\n",
    "from pathlib import Path\n",
    "from keras.models import load_model\n",
    "from tensorflow.keras.preprocessing import image"
   ]
  },
  {
   "cell_type": "markdown",
   "source": [
    "##### Get the best model and COVID/NON-COVID images"
   ],
   "metadata": {
    "collapsed": false,
    "pycharm": {
     "name": "#%% md\n"
    }
   }
  },
  {
   "cell_type": "code",
   "execution_count": 54,
   "outputs": [],
   "source": [
    "model_path = Path(\".\").resolve().parent.joinpath(\"models/Experiment 4.h5\")\n",
    "\n",
    "covid_images = Path(\"F:\").resolve().joinpath(\"Datasets/SARS-COV-2 Ct-Scan Dataset/COVID\")\n",
    "non_covid_images = Path(\"F:\").resolve().joinpath(\"Datasets/SARS-COV-2 Ct-Scan Dataset/non-COVID\")"
   ],
   "metadata": {
    "collapsed": false,
    "pycharm": {
     "name": "#%%\n"
    }
   }
  },
  {
   "cell_type": "code",
   "execution_count": 55,
   "outputs": [],
   "source": [
    "model = load_model(model_path)\n",
    "\n",
    "# Classes For CNN Model Predictions\n",
    "classes = {0: \"COVID-19\", 1: \"NON-COVID\"}"
   ],
   "metadata": {
    "collapsed": false,
    "pycharm": {
     "name": "#%%\n"
    }
   }
  },
  {
   "cell_type": "markdown",
   "source": [
    "##### Function to predict the class label of an image"
   ],
   "metadata": {
    "collapsed": false
   }
  },
  {
   "cell_type": "code",
   "execution_count": 56,
   "outputs": [],
   "source": [
    "def GetPrediction(img):\n",
    "    img = image.load_img(img, target_size=(224, 224))\n",
    "    img = image.img_to_array(img) / 255\n",
    "    x = np.expand_dims(img, axis=0)\n",
    "    prediction = (model.predict(x, batch_size=128) > 0.5).astype(\"int\")\n",
    "    return classes.get(prediction[0][0])"
   ],
   "metadata": {
    "collapsed": false,
    "pycharm": {
     "name": "#%%\n"
    }
   }
  },
  {
   "cell_type": "markdown",
   "source": [
    "##### Test NON-COVID images"
   ],
   "metadata": {
    "collapsed": false,
    "pycharm": {
     "name": "#%% md\n"
    }
   }
  },
  {
   "cell_type": "code",
   "execution_count": 57,
   "outputs": [
    {
     "name": "stdout",
     "output_type": "stream",
     "text": [
      "Number of NON-COVID images: 1229\n",
      "Correctly identified as NON-COVID: 376\n",
      "Incorrectly identified as COVID: 853\n"
     ]
    }
   ],
   "source": [
    "non_covid_results = []\n",
    "for img in non_covid_images.glob(\"*\"):\n",
    "    non_covid_results.append(GetPrediction(img))\n",
    "\n",
    "print(f\"Number of NON-COVID images: {len(non_covid_results)}\\n\"\n",
    "      f\"Correctly identified as NON-COVID: {non_covid_results.count('NON-COVID')}\\n\"\n",
    "      f\"Incorrectly identified as COVID: {non_covid_results.count('COVID-19')}\")"
   ],
   "metadata": {
    "collapsed": false,
    "pycharm": {
     "name": "#%%\n"
    }
   }
  },
  {
   "cell_type": "markdown",
   "source": [
    "##### Test COVID images"
   ],
   "metadata": {
    "collapsed": false
   }
  },
  {
   "cell_type": "code",
   "execution_count": 58,
   "outputs": [
    {
     "name": "stdout",
     "output_type": "stream",
     "text": [
      "Number of COVID images: 1252\n",
      "Correctly identified as COVID: 1050\n",
      "Incorrectly identified as NON-COVID: 202\n"
     ]
    }
   ],
   "source": [
    "covid_results = []\n",
    "for img in covid_images.glob(\"*\"):\n",
    "    covid_results.append(GetPrediction(img))\n",
    "\n",
    "print(f\"Number of COVID images: {len(covid_results)}\\n\"\n",
    "      f\"Correctly identified as COVID: {covid_results.count('COVID-19')}\\n\"\n",
    "      f\"Incorrectly identified as NON-COVID: {covid_results.count('NON-COVID')}\")"
   ],
   "metadata": {
    "collapsed": false,
    "pycharm": {
     "name": "#%%\n"
    }
   }
  }
 ],
 "metadata": {
  "kernelspec": {
   "display_name": "Python 3",
   "language": "python",
   "name": "python3"
  },
  "language_info": {
   "codemirror_mode": {
    "name": "ipython",
    "version": 2
   },
   "file_extension": ".py",
   "mimetype": "text/x-python",
   "name": "python",
   "nbconvert_exporter": "python",
   "pygments_lexer": "ipython2",
   "version": "2.7.6"
  }
 },
 "nbformat": 4,
 "nbformat_minor": 0
}