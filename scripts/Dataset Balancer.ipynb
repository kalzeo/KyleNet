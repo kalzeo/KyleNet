{
 "cells": [
  {
   "cell_type": "markdown",
   "metadata": {
    "collapsed": true,
    "pycharm": {
     "name": "#%% md\n"
    }
   },
   "source": [
    "## Test Balancer\n",
    "##### Test script to balance dataset"
   ]
  },
  {
   "cell_type": "code",
   "execution_count": 217,
   "outputs": [],
   "source": [
    "import pandas as pd\n",
    "from pathlib import Path\n",
    "from sklearn.utils import shuffle\n",
    "# Get the metadata\n",
    "META = Path(\".\").resolve().parent.joinpath(\"metadata.csv\")\n",
    "df = pd.read_csv(META)"
   ],
   "metadata": {
    "collapsed": false,
    "pycharm": {
     "name": "#%%\n"
    }
   }
  },
  {
   "cell_type": "code",
   "execution_count": 218,
   "outputs": [
    {
     "data": {
      "text/plain": "Index(['patientid', 'sex', 'age', 'finding', 'modality', 'filename'], dtype='object')"
     },
     "execution_count": 218,
     "metadata": {},
     "output_type": "execute_result"
    }
   ],
   "source": [
    "df.columns"
   ],
   "metadata": {
    "collapsed": false,
    "pycharm": {
     "name": "#%%\n"
    }
   }
  },
  {
   "cell_type": "code",
   "execution_count": 219,
   "outputs": [],
   "source": [
    "def ViewFindingBalance():\n",
    "    # View the balances\n",
    "    print(f\"Overall Balance:\\n{df['finding'].value_counts()}\\n\")\n",
    "    print(f\"Balance for CXR:\\n{df.loc[df['modality'] == 'X-ray', 'finding'].value_counts()}\\n\")\n",
    "    print(f\"Balance for CXR:\\n{df.loc[df['modality'] == 'CT', 'finding'].value_counts()}\")"
   ],
   "metadata": {
    "collapsed": false,
    "pycharm": {
     "name": "#%%\n"
    }
   }
  },
  {
   "cell_type": "markdown",
   "source": [
    "##### Undersample the dataset based on the findings ie COVID / NON-COVID"
   ],
   "metadata": {
    "collapsed": false
   }
  },
  {
   "cell_type": "code",
   "execution_count": 220,
   "outputs": [
    {
     "name": "stdout",
     "output_type": "stream",
     "text": [
      "Overall Balance:\n",
      "NON-COVID    56068\n",
      "COVID-19     38553\n",
      "Name: finding, dtype: int64\n",
      "\n",
      "Balance for CXR:\n",
      "NON-COVID    532\n",
      "COVID-19     287\n",
      "Name: finding, dtype: int64\n",
      "\n",
      "Balance for CXR:\n",
      "NON-COVID    55536\n",
      "COVID-19     38266\n",
      "Name: finding, dtype: int64\n"
     ]
    }
   ],
   "source": [
    "# View the current balance\n",
    "ViewFindingBalance()"
   ],
   "metadata": {
    "collapsed": false,
    "pycharm": {
     "name": "#%%\n"
    }
   }
  },
  {
   "cell_type": "code",
   "execution_count": 221,
   "outputs": [],
   "source": [
    "# Undersample the majority class\n",
    "g = df.groupby(\"finding\")\n",
    "df = g.apply(lambda x: x.sample(g.size().min()))"
   ],
   "metadata": {
    "collapsed": false,
    "pycharm": {
     "name": "#%%\n"
    }
   }
  },
  {
   "cell_type": "code",
   "execution_count": 222,
   "outputs": [
    {
     "name": "stdout",
     "output_type": "stream",
     "text": [
      "Overall Balance:\n",
      "COVID-19     38553\n",
      "NON-COVID    38553\n",
      "Name: finding, dtype: int64\n",
      "\n",
      "Balance for CXR:\n",
      "NON-COVID    357\n",
      "COVID-19     287\n",
      "Name: finding, dtype: int64\n",
      "\n",
      "Balance for CXR:\n",
      "COVID-19     38266\n",
      "NON-COVID    38196\n",
      "Name: finding, dtype: int64\n"
     ]
    }
   ],
   "source": [
    "# Check if the balanced is the same for both classes\n",
    "ViewFindingBalance()"
   ],
   "metadata": {
    "collapsed": false,
    "pycharm": {
     "name": "#%%\n"
    }
   }
  },
  {
   "cell_type": "code",
   "execution_count": 223,
   "outputs": [
    {
     "data": {
      "text/plain": "                               patientid      sex      age    finding  \\\nfinding                                                                 \nCOVID-19  78507  volume-covid19-A-0196_0  Unknown  Unknown   COVID-19   \n          14003                   NCP_32  Unknown  Unknown   COVID-19   \n          21939                  NCP_446        M       51   COVID-19   \n          8432                   NCP_233        M        0   COVID-19   \n          23214                   NCP_48  Unknown  Unknown   COVID-19   \n...                                  ...      ...      ...        ...   \nNON-COVID 63136              Normal_3911  Unknown  Unknown  NON-COVID   \n          39371              Normal_1711  Unknown  Unknown  NON-COVID   \n          62098              Normal_3905  Unknown  Unknown  NON-COVID   \n          74283               Normal_799  Unknown  Unknown  NON-COVID   \n          91290               patient394        M       42  NON-COVID   \n\n                modality                                           filename  \nfinding                                                                      \nCOVID-19  78507       CT  C:\\Users\\Kyle\\Desktop\\RGU Coursework\\Thesis\\Ky...  \n          14003       CT  C:\\Users\\Kyle\\Desktop\\RGU Coursework\\Thesis\\Ky...  \n          21939       CT  C:\\Users\\Kyle\\Desktop\\RGU Coursework\\Thesis\\Ky...  \n          8432        CT  C:\\Users\\Kyle\\Desktop\\RGU Coursework\\Thesis\\Ky...  \n          23214       CT  C:\\Users\\Kyle\\Desktop\\RGU Coursework\\Thesis\\Ky...  \n...                  ...                                                ...  \nNON-COVID 63136       CT  C:\\Users\\Kyle\\Desktop\\RGU Coursework\\Thesis\\Ky...  \n          39371       CT  C:\\Users\\Kyle\\Desktop\\RGU Coursework\\Thesis\\Ky...  \n          62098       CT  C:\\Users\\Kyle\\Desktop\\RGU Coursework\\Thesis\\Ky...  \n          74283       CT  C:\\Users\\Kyle\\Desktop\\RGU Coursework\\Thesis\\Ky...  \n          91290       CT  C:\\Users\\Kyle\\Desktop\\RGU Coursework\\Thesis\\Ky...  \n\n[77106 rows x 6 columns]",
      "text/html": "<div>\n<style scoped>\n    .dataframe tbody tr th:only-of-type {\n        vertical-align: middle;\n    }\n\n    .dataframe tbody tr th {\n        vertical-align: top;\n    }\n\n    .dataframe thead th {\n        text-align: right;\n    }\n</style>\n<table border=\"1\" class=\"dataframe\">\n  <thead>\n    <tr style=\"text-align: right;\">\n      <th></th>\n      <th></th>\n      <th>patientid</th>\n      <th>sex</th>\n      <th>age</th>\n      <th>finding</th>\n      <th>modality</th>\n      <th>filename</th>\n    </tr>\n    <tr>\n      <th>finding</th>\n      <th></th>\n      <th></th>\n      <th></th>\n      <th></th>\n      <th></th>\n      <th></th>\n      <th></th>\n    </tr>\n  </thead>\n  <tbody>\n    <tr>\n      <th rowspan=\"5\" valign=\"top\">COVID-19</th>\n      <th>78507</th>\n      <td>volume-covid19-A-0196_0</td>\n      <td>Unknown</td>\n      <td>Unknown</td>\n      <td>COVID-19</td>\n      <td>CT</td>\n      <td>C:\\Users\\Kyle\\Desktop\\RGU Coursework\\Thesis\\Ky...</td>\n    </tr>\n    <tr>\n      <th>14003</th>\n      <td>NCP_32</td>\n      <td>Unknown</td>\n      <td>Unknown</td>\n      <td>COVID-19</td>\n      <td>CT</td>\n      <td>C:\\Users\\Kyle\\Desktop\\RGU Coursework\\Thesis\\Ky...</td>\n    </tr>\n    <tr>\n      <th>21939</th>\n      <td>NCP_446</td>\n      <td>M</td>\n      <td>51</td>\n      <td>COVID-19</td>\n      <td>CT</td>\n      <td>C:\\Users\\Kyle\\Desktop\\RGU Coursework\\Thesis\\Ky...</td>\n    </tr>\n    <tr>\n      <th>8432</th>\n      <td>NCP_233</td>\n      <td>M</td>\n      <td>0</td>\n      <td>COVID-19</td>\n      <td>CT</td>\n      <td>C:\\Users\\Kyle\\Desktop\\RGU Coursework\\Thesis\\Ky...</td>\n    </tr>\n    <tr>\n      <th>23214</th>\n      <td>NCP_48</td>\n      <td>Unknown</td>\n      <td>Unknown</td>\n      <td>COVID-19</td>\n      <td>CT</td>\n      <td>C:\\Users\\Kyle\\Desktop\\RGU Coursework\\Thesis\\Ky...</td>\n    </tr>\n    <tr>\n      <th>...</th>\n      <th>...</th>\n      <td>...</td>\n      <td>...</td>\n      <td>...</td>\n      <td>...</td>\n      <td>...</td>\n      <td>...</td>\n    </tr>\n    <tr>\n      <th rowspan=\"5\" valign=\"top\">NON-COVID</th>\n      <th>63136</th>\n      <td>Normal_3911</td>\n      <td>Unknown</td>\n      <td>Unknown</td>\n      <td>NON-COVID</td>\n      <td>CT</td>\n      <td>C:\\Users\\Kyle\\Desktop\\RGU Coursework\\Thesis\\Ky...</td>\n    </tr>\n    <tr>\n      <th>39371</th>\n      <td>Normal_1711</td>\n      <td>Unknown</td>\n      <td>Unknown</td>\n      <td>NON-COVID</td>\n      <td>CT</td>\n      <td>C:\\Users\\Kyle\\Desktop\\RGU Coursework\\Thesis\\Ky...</td>\n    </tr>\n    <tr>\n      <th>62098</th>\n      <td>Normal_3905</td>\n      <td>Unknown</td>\n      <td>Unknown</td>\n      <td>NON-COVID</td>\n      <td>CT</td>\n      <td>C:\\Users\\Kyle\\Desktop\\RGU Coursework\\Thesis\\Ky...</td>\n    </tr>\n    <tr>\n      <th>74283</th>\n      <td>Normal_799</td>\n      <td>Unknown</td>\n      <td>Unknown</td>\n      <td>NON-COVID</td>\n      <td>CT</td>\n      <td>C:\\Users\\Kyle\\Desktop\\RGU Coursework\\Thesis\\Ky...</td>\n    </tr>\n    <tr>\n      <th>91290</th>\n      <td>patient394</td>\n      <td>M</td>\n      <td>42</td>\n      <td>NON-COVID</td>\n      <td>CT</td>\n      <td>C:\\Users\\Kyle\\Desktop\\RGU Coursework\\Thesis\\Ky...</td>\n    </tr>\n  </tbody>\n</table>\n<p>77106 rows × 6 columns</p>\n</div>"
     },
     "execution_count": 223,
     "metadata": {},
     "output_type": "execute_result"
    }
   ],
   "source": [
    "# Check to see if it's grouped properly\n",
    "df"
   ],
   "metadata": {
    "collapsed": false,
    "pycharm": {
     "name": "#%%\n"
    }
   }
  },
  {
   "cell_type": "code",
   "execution_count": 224,
   "outputs": [
    {
     "data": {
      "text/plain": "                     patientid      sex      age    finding modality  \\\n0      volume-covid19-A-0196_0  Unknown  Unknown   COVID-19       CT   \n1                       NCP_32  Unknown  Unknown   COVID-19       CT   \n2                      NCP_446        M       51   COVID-19       CT   \n3                      NCP_233        M        0   COVID-19       CT   \n4                       NCP_48  Unknown  Unknown   COVID-19       CT   \n...                        ...      ...      ...        ...      ...   \n77101              Normal_3911  Unknown  Unknown  NON-COVID       CT   \n77102              Normal_1711  Unknown  Unknown  NON-COVID       CT   \n77103              Normal_3905  Unknown  Unknown  NON-COVID       CT   \n77104               Normal_799  Unknown  Unknown  NON-COVID       CT   \n77105               patient394        M       42  NON-COVID       CT   \n\n                                                filename  \n0      C:\\Users\\Kyle\\Desktop\\RGU Coursework\\Thesis\\Ky...  \n1      C:\\Users\\Kyle\\Desktop\\RGU Coursework\\Thesis\\Ky...  \n2      C:\\Users\\Kyle\\Desktop\\RGU Coursework\\Thesis\\Ky...  \n3      C:\\Users\\Kyle\\Desktop\\RGU Coursework\\Thesis\\Ky...  \n4      C:\\Users\\Kyle\\Desktop\\RGU Coursework\\Thesis\\Ky...  \n...                                                  ...  \n77101  C:\\Users\\Kyle\\Desktop\\RGU Coursework\\Thesis\\Ky...  \n77102  C:\\Users\\Kyle\\Desktop\\RGU Coursework\\Thesis\\Ky...  \n77103  C:\\Users\\Kyle\\Desktop\\RGU Coursework\\Thesis\\Ky...  \n77104  C:\\Users\\Kyle\\Desktop\\RGU Coursework\\Thesis\\Ky...  \n77105  C:\\Users\\Kyle\\Desktop\\RGU Coursework\\Thesis\\Ky...  \n\n[77106 rows x 6 columns]",
      "text/html": "<div>\n<style scoped>\n    .dataframe tbody tr th:only-of-type {\n        vertical-align: middle;\n    }\n\n    .dataframe tbody tr th {\n        vertical-align: top;\n    }\n\n    .dataframe thead th {\n        text-align: right;\n    }\n</style>\n<table border=\"1\" class=\"dataframe\">\n  <thead>\n    <tr style=\"text-align: right;\">\n      <th></th>\n      <th>patientid</th>\n      <th>sex</th>\n      <th>age</th>\n      <th>finding</th>\n      <th>modality</th>\n      <th>filename</th>\n    </tr>\n  </thead>\n  <tbody>\n    <tr>\n      <th>0</th>\n      <td>volume-covid19-A-0196_0</td>\n      <td>Unknown</td>\n      <td>Unknown</td>\n      <td>COVID-19</td>\n      <td>CT</td>\n      <td>C:\\Users\\Kyle\\Desktop\\RGU Coursework\\Thesis\\Ky...</td>\n    </tr>\n    <tr>\n      <th>1</th>\n      <td>NCP_32</td>\n      <td>Unknown</td>\n      <td>Unknown</td>\n      <td>COVID-19</td>\n      <td>CT</td>\n      <td>C:\\Users\\Kyle\\Desktop\\RGU Coursework\\Thesis\\Ky...</td>\n    </tr>\n    <tr>\n      <th>2</th>\n      <td>NCP_446</td>\n      <td>M</td>\n      <td>51</td>\n      <td>COVID-19</td>\n      <td>CT</td>\n      <td>C:\\Users\\Kyle\\Desktop\\RGU Coursework\\Thesis\\Ky...</td>\n    </tr>\n    <tr>\n      <th>3</th>\n      <td>NCP_233</td>\n      <td>M</td>\n      <td>0</td>\n      <td>COVID-19</td>\n      <td>CT</td>\n      <td>C:\\Users\\Kyle\\Desktop\\RGU Coursework\\Thesis\\Ky...</td>\n    </tr>\n    <tr>\n      <th>4</th>\n      <td>NCP_48</td>\n      <td>Unknown</td>\n      <td>Unknown</td>\n      <td>COVID-19</td>\n      <td>CT</td>\n      <td>C:\\Users\\Kyle\\Desktop\\RGU Coursework\\Thesis\\Ky...</td>\n    </tr>\n    <tr>\n      <th>...</th>\n      <td>...</td>\n      <td>...</td>\n      <td>...</td>\n      <td>...</td>\n      <td>...</td>\n      <td>...</td>\n    </tr>\n    <tr>\n      <th>77101</th>\n      <td>Normal_3911</td>\n      <td>Unknown</td>\n      <td>Unknown</td>\n      <td>NON-COVID</td>\n      <td>CT</td>\n      <td>C:\\Users\\Kyle\\Desktop\\RGU Coursework\\Thesis\\Ky...</td>\n    </tr>\n    <tr>\n      <th>77102</th>\n      <td>Normal_1711</td>\n      <td>Unknown</td>\n      <td>Unknown</td>\n      <td>NON-COVID</td>\n      <td>CT</td>\n      <td>C:\\Users\\Kyle\\Desktop\\RGU Coursework\\Thesis\\Ky...</td>\n    </tr>\n    <tr>\n      <th>77103</th>\n      <td>Normal_3905</td>\n      <td>Unknown</td>\n      <td>Unknown</td>\n      <td>NON-COVID</td>\n      <td>CT</td>\n      <td>C:\\Users\\Kyle\\Desktop\\RGU Coursework\\Thesis\\Ky...</td>\n    </tr>\n    <tr>\n      <th>77104</th>\n      <td>Normal_799</td>\n      <td>Unknown</td>\n      <td>Unknown</td>\n      <td>NON-COVID</td>\n      <td>CT</td>\n      <td>C:\\Users\\Kyle\\Desktop\\RGU Coursework\\Thesis\\Ky...</td>\n    </tr>\n    <tr>\n      <th>77105</th>\n      <td>patient394</td>\n      <td>M</td>\n      <td>42</td>\n      <td>NON-COVID</td>\n      <td>CT</td>\n      <td>C:\\Users\\Kyle\\Desktop\\RGU Coursework\\Thesis\\Ky...</td>\n    </tr>\n  </tbody>\n</table>\n<p>77106 rows × 6 columns</p>\n</div>"
     },
     "execution_count": 224,
     "metadata": {},
     "output_type": "execute_result"
    }
   ],
   "source": [
    "# Remove the group so that the dataframe can be shuffled\n",
    "df = df.reset_index(drop=True)\n",
    "df"
   ],
   "metadata": {
    "collapsed": false,
    "pycharm": {
     "name": "#%%\n"
    }
   }
  },
  {
   "cell_type": "code",
   "execution_count": 225,
   "outputs": [
    {
     "data": {
      "text/plain": "                   patientid      sex      age    finding modality  \\\n20072               NCP_3948  Unknown  Unknown   COVID-19       CT   \n22675                NCP_408        F       54   COVID-19       CT   \n74211            Normal_1670  Unknown  Unknown  NON-COVID       CT   \n26867  volume-covid19-A-0586  Unknown  Unknown   COVID-19       CT   \n70851            Normal_1752  Unknown  Unknown  NON-COVID       CT   \n...                      ...      ...      ...        ...      ...   \n56236            Normal_1670  Unknown  Unknown  NON-COVID       CT   \n73580            Normal_1735  Unknown  Unknown  NON-COVID       CT   \n54939             patient307        M       26  NON-COVID       CT   \n6727                 NCP_457  Unknown  Unknown   COVID-19       CT   \n68289            Normal_1670  Unknown  Unknown  NON-COVID       CT   \n\n                                                filename  \n20072  C:\\Users\\Kyle\\Desktop\\RGU Coursework\\Thesis\\Ky...  \n22675  C:\\Users\\Kyle\\Desktop\\RGU Coursework\\Thesis\\Ky...  \n74211  C:\\Users\\Kyle\\Desktop\\RGU Coursework\\Thesis\\Ky...  \n26867  C:\\Users\\Kyle\\Desktop\\RGU Coursework\\Thesis\\Ky...  \n70851  C:\\Users\\Kyle\\Desktop\\RGU Coursework\\Thesis\\Ky...  \n...                                                  ...  \n56236  C:\\Users\\Kyle\\Desktop\\RGU Coursework\\Thesis\\Ky...  \n73580  C:\\Users\\Kyle\\Desktop\\RGU Coursework\\Thesis\\Ky...  \n54939  C:\\Users\\Kyle\\Desktop\\RGU Coursework\\Thesis\\Ky...  \n6727   C:\\Users\\Kyle\\Desktop\\RGU Coursework\\Thesis\\Ky...  \n68289  C:\\Users\\Kyle\\Desktop\\RGU Coursework\\Thesis\\Ky...  \n\n[77106 rows x 6 columns]",
      "text/html": "<div>\n<style scoped>\n    .dataframe tbody tr th:only-of-type {\n        vertical-align: middle;\n    }\n\n    .dataframe tbody tr th {\n        vertical-align: top;\n    }\n\n    .dataframe thead th {\n        text-align: right;\n    }\n</style>\n<table border=\"1\" class=\"dataframe\">\n  <thead>\n    <tr style=\"text-align: right;\">\n      <th></th>\n      <th>patientid</th>\n      <th>sex</th>\n      <th>age</th>\n      <th>finding</th>\n      <th>modality</th>\n      <th>filename</th>\n    </tr>\n  </thead>\n  <tbody>\n    <tr>\n      <th>20072</th>\n      <td>NCP_3948</td>\n      <td>Unknown</td>\n      <td>Unknown</td>\n      <td>COVID-19</td>\n      <td>CT</td>\n      <td>C:\\Users\\Kyle\\Desktop\\RGU Coursework\\Thesis\\Ky...</td>\n    </tr>\n    <tr>\n      <th>22675</th>\n      <td>NCP_408</td>\n      <td>F</td>\n      <td>54</td>\n      <td>COVID-19</td>\n      <td>CT</td>\n      <td>C:\\Users\\Kyle\\Desktop\\RGU Coursework\\Thesis\\Ky...</td>\n    </tr>\n    <tr>\n      <th>74211</th>\n      <td>Normal_1670</td>\n      <td>Unknown</td>\n      <td>Unknown</td>\n      <td>NON-COVID</td>\n      <td>CT</td>\n      <td>C:\\Users\\Kyle\\Desktop\\RGU Coursework\\Thesis\\Ky...</td>\n    </tr>\n    <tr>\n      <th>26867</th>\n      <td>volume-covid19-A-0586</td>\n      <td>Unknown</td>\n      <td>Unknown</td>\n      <td>COVID-19</td>\n      <td>CT</td>\n      <td>C:\\Users\\Kyle\\Desktop\\RGU Coursework\\Thesis\\Ky...</td>\n    </tr>\n    <tr>\n      <th>70851</th>\n      <td>Normal_1752</td>\n      <td>Unknown</td>\n      <td>Unknown</td>\n      <td>NON-COVID</td>\n      <td>CT</td>\n      <td>C:\\Users\\Kyle\\Desktop\\RGU Coursework\\Thesis\\Ky...</td>\n    </tr>\n    <tr>\n      <th>...</th>\n      <td>...</td>\n      <td>...</td>\n      <td>...</td>\n      <td>...</td>\n      <td>...</td>\n      <td>...</td>\n    </tr>\n    <tr>\n      <th>56236</th>\n      <td>Normal_1670</td>\n      <td>Unknown</td>\n      <td>Unknown</td>\n      <td>NON-COVID</td>\n      <td>CT</td>\n      <td>C:\\Users\\Kyle\\Desktop\\RGU Coursework\\Thesis\\Ky...</td>\n    </tr>\n    <tr>\n      <th>73580</th>\n      <td>Normal_1735</td>\n      <td>Unknown</td>\n      <td>Unknown</td>\n      <td>NON-COVID</td>\n      <td>CT</td>\n      <td>C:\\Users\\Kyle\\Desktop\\RGU Coursework\\Thesis\\Ky...</td>\n    </tr>\n    <tr>\n      <th>54939</th>\n      <td>patient307</td>\n      <td>M</td>\n      <td>26</td>\n      <td>NON-COVID</td>\n      <td>CT</td>\n      <td>C:\\Users\\Kyle\\Desktop\\RGU Coursework\\Thesis\\Ky...</td>\n    </tr>\n    <tr>\n      <th>6727</th>\n      <td>NCP_457</td>\n      <td>Unknown</td>\n      <td>Unknown</td>\n      <td>COVID-19</td>\n      <td>CT</td>\n      <td>C:\\Users\\Kyle\\Desktop\\RGU Coursework\\Thesis\\Ky...</td>\n    </tr>\n    <tr>\n      <th>68289</th>\n      <td>Normal_1670</td>\n      <td>Unknown</td>\n      <td>Unknown</td>\n      <td>NON-COVID</td>\n      <td>CT</td>\n      <td>C:\\Users\\Kyle\\Desktop\\RGU Coursework\\Thesis\\Ky...</td>\n    </tr>\n  </tbody>\n</table>\n<p>77106 rows × 6 columns</p>\n</div>"
     },
     "execution_count": 225,
     "metadata": {},
     "output_type": "execute_result"
    }
   ],
   "source": [
    "df = shuffle(df)\n",
    "df"
   ],
   "metadata": {
    "collapsed": false,
    "pycharm": {
     "name": "#%%\n"
    }
   }
  },
  {
   "cell_type": "markdown",
   "source": [
    "##### One liner test"
   ],
   "metadata": {
    "collapsed": false,
    "pycharm": {
     "name": "#%% md\n",
     "is_executing": true
    }
   }
  },
  {
   "cell_type": "code",
   "execution_count": 226,
   "outputs": [
    {
     "data": {
      "text/plain": "                   patientid      sex      age    finding modality  \\\n10214             patient145        M       56   COVID-19       CT   \n30906                NCP_336  Unknown  Unknown   COVID-19       CT   \n15092                NCP_408        F       54   COVID-19       CT   \n62471             Normal_787  Unknown  Unknown  NON-COVID       CT   \n6169              patient124        F       64   COVID-19       CT   \n...                      ...      ...      ...        ...      ...   \n8377   volume-covid19-A-0392  Unknown  Unknown   COVID-19       CT   \n9031               patient97        M       42   COVID-19       CT   \n14235                NCP_392  Unknown  Unknown   COVID-19       CT   \n25763                NCP_326        F       69   COVID-19       CT   \n32893                NCP_417        F       51   COVID-19       CT   \n\n                                                filename  \n10214  C:\\Users\\Kyle\\Desktop\\RGU Coursework\\Thesis\\Ky...  \n30906  C:\\Users\\Kyle\\Desktop\\RGU Coursework\\Thesis\\Ky...  \n15092  C:\\Users\\Kyle\\Desktop\\RGU Coursework\\Thesis\\Ky...  \n62471  C:\\Users\\Kyle\\Desktop\\RGU Coursework\\Thesis\\Ky...  \n6169   C:\\Users\\Kyle\\Desktop\\RGU Coursework\\Thesis\\Ky...  \n...                                                  ...  \n8377   C:\\Users\\Kyle\\Desktop\\RGU Coursework\\Thesis\\Ky...  \n9031   C:\\Users\\Kyle\\Desktop\\RGU Coursework\\Thesis\\Ky...  \n14235  C:\\Users\\Kyle\\Desktop\\RGU Coursework\\Thesis\\Ky...  \n25763  C:\\Users\\Kyle\\Desktop\\RGU Coursework\\Thesis\\Ky...  \n32893  C:\\Users\\Kyle\\Desktop\\RGU Coursework\\Thesis\\Ky...  \n\n[77106 rows x 6 columns]",
      "text/html": "<div>\n<style scoped>\n    .dataframe tbody tr th:only-of-type {\n        vertical-align: middle;\n    }\n\n    .dataframe tbody tr th {\n        vertical-align: top;\n    }\n\n    .dataframe thead th {\n        text-align: right;\n    }\n</style>\n<table border=\"1\" class=\"dataframe\">\n  <thead>\n    <tr style=\"text-align: right;\">\n      <th></th>\n      <th>patientid</th>\n      <th>sex</th>\n      <th>age</th>\n      <th>finding</th>\n      <th>modality</th>\n      <th>filename</th>\n    </tr>\n  </thead>\n  <tbody>\n    <tr>\n      <th>10214</th>\n      <td>patient145</td>\n      <td>M</td>\n      <td>56</td>\n      <td>COVID-19</td>\n      <td>CT</td>\n      <td>C:\\Users\\Kyle\\Desktop\\RGU Coursework\\Thesis\\Ky...</td>\n    </tr>\n    <tr>\n      <th>30906</th>\n      <td>NCP_336</td>\n      <td>Unknown</td>\n      <td>Unknown</td>\n      <td>COVID-19</td>\n      <td>CT</td>\n      <td>C:\\Users\\Kyle\\Desktop\\RGU Coursework\\Thesis\\Ky...</td>\n    </tr>\n    <tr>\n      <th>15092</th>\n      <td>NCP_408</td>\n      <td>F</td>\n      <td>54</td>\n      <td>COVID-19</td>\n      <td>CT</td>\n      <td>C:\\Users\\Kyle\\Desktop\\RGU Coursework\\Thesis\\Ky...</td>\n    </tr>\n    <tr>\n      <th>62471</th>\n      <td>Normal_787</td>\n      <td>Unknown</td>\n      <td>Unknown</td>\n      <td>NON-COVID</td>\n      <td>CT</td>\n      <td>C:\\Users\\Kyle\\Desktop\\RGU Coursework\\Thesis\\Ky...</td>\n    </tr>\n    <tr>\n      <th>6169</th>\n      <td>patient124</td>\n      <td>F</td>\n      <td>64</td>\n      <td>COVID-19</td>\n      <td>CT</td>\n      <td>C:\\Users\\Kyle\\Desktop\\RGU Coursework\\Thesis\\Ky...</td>\n    </tr>\n    <tr>\n      <th>...</th>\n      <td>...</td>\n      <td>...</td>\n      <td>...</td>\n      <td>...</td>\n      <td>...</td>\n      <td>...</td>\n    </tr>\n    <tr>\n      <th>8377</th>\n      <td>volume-covid19-A-0392</td>\n      <td>Unknown</td>\n      <td>Unknown</td>\n      <td>COVID-19</td>\n      <td>CT</td>\n      <td>C:\\Users\\Kyle\\Desktop\\RGU Coursework\\Thesis\\Ky...</td>\n    </tr>\n    <tr>\n      <th>9031</th>\n      <td>patient97</td>\n      <td>M</td>\n      <td>42</td>\n      <td>COVID-19</td>\n      <td>CT</td>\n      <td>C:\\Users\\Kyle\\Desktop\\RGU Coursework\\Thesis\\Ky...</td>\n    </tr>\n    <tr>\n      <th>14235</th>\n      <td>NCP_392</td>\n      <td>Unknown</td>\n      <td>Unknown</td>\n      <td>COVID-19</td>\n      <td>CT</td>\n      <td>C:\\Users\\Kyle\\Desktop\\RGU Coursework\\Thesis\\Ky...</td>\n    </tr>\n    <tr>\n      <th>25763</th>\n      <td>NCP_326</td>\n      <td>F</td>\n      <td>69</td>\n      <td>COVID-19</td>\n      <td>CT</td>\n      <td>C:\\Users\\Kyle\\Desktop\\RGU Coursework\\Thesis\\Ky...</td>\n    </tr>\n    <tr>\n      <th>32893</th>\n      <td>NCP_417</td>\n      <td>F</td>\n      <td>51</td>\n      <td>COVID-19</td>\n      <td>CT</td>\n      <td>C:\\Users\\Kyle\\Desktop\\RGU Coursework\\Thesis\\Ky...</td>\n    </tr>\n  </tbody>\n</table>\n<p>77106 rows × 6 columns</p>\n</div>"
     },
     "execution_count": 226,
     "metadata": {},
     "output_type": "execute_result"
    }
   ],
   "source": [
    "df = shuffle(g.apply(lambda x: x.sample(g.size().min())).reset_index(drop=True))\n",
    "df"
   ],
   "metadata": {
    "collapsed": false,
    "pycharm": {
     "name": "#%%\n"
    }
   }
  },
  {
   "cell_type": "code",
   "execution_count": null,
   "outputs": [],
   "source": [],
   "metadata": {
    "collapsed": false,
    "pycharm": {
     "name": "#%%\n"
    }
   }
  }
 ],
 "metadata": {
  "kernelspec": {
   "display_name": "Python 3",
   "language": "python",
   "name": "python3"
  },
  "language_info": {
   "codemirror_mode": {
    "name": "ipython",
    "version": 2
   },
   "file_extension": ".py",
   "mimetype": "text/x-python",
   "name": "python",
   "nbconvert_exporter": "python",
   "pygments_lexer": "ipython2",
   "version": "2.7.6"
  }
 },
 "nbformat": 4,
 "nbformat_minor": 0
}