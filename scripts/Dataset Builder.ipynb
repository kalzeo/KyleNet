{
 "cells": [
  {
   "cell_type": "markdown",
   "metadata": {},
   "source": [
    "##### Script to build the experimental dataset"
   ]
  },
  {
   "cell_type": "code",
   "execution_count": 453,
   "metadata": {},
   "outputs": [],
   "source": [
    "import pandas as pd\n",
    "from pathlib import Path\n",
    "import shutil\n",
    "import numpy as np"
   ]
  },
  {
   "cell_type": "markdown",
   "metadata": {},
   "source": [
    "##### Dataset Builder Class\n",
    "##### - Filters the metadata from collected datasets\n",
    "##### - Transfers images to the correct locations"
   ]
  },
  {
   "cell_type": "code",
   "execution_count": 513,
   "metadata": {},
   "outputs": [],
   "source": [
    "class DatasetBuilder():\n",
    "    def __init__(self, experimental, experimental_covid, experimental_noncovid):\n",
    "        # Map for the accepted findings\n",
    "        self.findings = {\"COVID-19\": \"COVID-19\",\n",
    "                         \"Pneumonia/Viral/COVID-19\": \"COVID-19\",\n",
    "                         \"Normal\": \"NON-COVID\",\n",
    "                         \"No Finding\": \"NON-COVID\"}\n",
    "\n",
    "        # Dataframe to store new metadata\n",
    "        self.columns = [\"patientid\", \"sex\", \"age\", \"finding\", \"modality\", \"filename\"]\n",
    "        self.df = pd.DataFrame(columns=self.columns)\n",
    "\n",
    "        # Save locations for experimental images ie. COVID / NON-COVID\n",
    "        self.exp = experimental\n",
    "        self.exp_cv = experimental_covid\n",
    "        self.exp_ncv = experimental_noncovid\n",
    "\n",
    "    # Private method to update the main dataframe\n",
    "    def __UpdateDF(self, *row):\n",
    "        self.df.loc[len(self.df)] = row\n",
    "\n",
    "    def Filter(self, location):\n",
    "        df = pd.read_csv(location.joinpath(\"metadata.csv\"))\n",
    "        print(f\"{'-'*50}\\nFiltering {location.name}\\nOld Shape: {df.shape}\")\n",
    "\n",
    "        # Normalise column names\n",
    "        df.columns = df.columns.str.replace(\" \", \"\").str.lower()\n",
    "\n",
    "        # Filter rows\n",
    "        rowFilter = {\"verifiedfinding\": \"Yes\", \"folder\": \"images\"}\n",
    "        df = [df[df[c] == v] for i, (c, v) in enumerate(rowFilter.items()) if c in df.columns][0]\n",
    "\n",
    "        # Drop all the columns that aren't needed\n",
    "        df.drop(columns=[col for col in df if col not in self.columns], inplace=True)\n",
    "        df[\"finding\"] = df[\"finding\"].map(self.findings)\n",
    "\n",
    "        df[\"age\"].fillna(\"Unknown\", inplace=True)\n",
    "        df[\"sex\"].fillna(\"Unknown\", inplace=True)\n",
    "\n",
    "        df.dropna(inplace=True)\n",
    "        df.drop_duplicates(subset=[\"patientid\"], inplace=True)\n",
    "        df[\"savedir\"] = np.where(df[\"finding\"] == \"COVID-19\", self.exp_cv, self.exp_ncv)\n",
    "\n",
    "        print(f\"New Shape: {df.shape}\\nFiltering Complete\\n{'-'*50}\\n\")\n",
    "        return df, location\n",
    "\n",
    "    def MoveImages(self, filtered):\n",
    "        def Copy(_source, _target):\n",
    "            if not _target.exists():\n",
    "                shutil.copy(_source, _target)\n",
    "\n",
    "        df = filtered[0]\n",
    "        location = filtered[1]\n",
    "        name = location.name\n",
    "        print(f\"{'-'*50}\\nTransferring images from {name}\")\n",
    "\n",
    "        if df is not None:\n",
    "            image_directory = location.joinpath(\"images\")\n",
    "\n",
    "            for index, row in df.iterrows():\n",
    "                if name == \"COVIDx-CT\":\n",
    "                    images = [x for x in image_directory.glob(f\"*{row['patientid']}_*\")]\n",
    "                    for image in images:\n",
    "                        target = row[\"savedir\"].joinpath(image.name)\n",
    "                        self.__UpdateDF(row[\"patientid\"], row[\"sex\"], row[\"age\"], row[\"finding\"], row[\"modality\"], target)\n",
    "                        Copy(image, target)\n",
    "                else:\n",
    "                    df.loc[index, \"patientid\"] =  f\"PID_{row['patientid']}\"\n",
    "                    source = image_directory.joinpath(row[\"filename\"])\n",
    "                    target = row[\"savedir\"].joinpath(f\"{row['patientid']}_{row['filename']}\")\n",
    "                    Copy(source, target)\n",
    "                    self.__UpdateDF(row[\"patientid\"], row[\"sex\"], row[\"age\"], row[\"finding\"], row[\"modality\"], target)\n",
    "        else:\n",
    "            # Take NORMAL patients\n",
    "            # A patients unique ID is stored within the image stem as IM-0XXX eg. IM-0115-0001 (12 chars)\n",
    "            # Patients can have more than one CXR image and the stem will reflect this as such: IM-0429-0001-000X (17 chars)\n",
    "            # For simplicity, patients with more than one image are removed\n",
    "            images = [image for image in location.glob(\"*\") if len(image.stem) == 12]\n",
    "            for image in images:\n",
    "                target = self.exp_ncv.joinpath(image.name)\n",
    "                Copy(image, target)\n",
    "                self.__UpdateDF(image.stem[:-5], \"Unknown\", \"Unknown\", \"NON-COVID\", \"X-ray\", target)\n",
    "\n",
    "        print(f\"Transfer Complete\\n{'-'*50}\")\n",
    "        self.__SaveDF()\n",
    "\n",
    "    def __SaveDF(self):\n",
    "        # Remove the old metadata and create a newer version\n",
    "        file = self.exp.joinpath(\"metadata.csv\")\n",
    "        if file.exists():\n",
    "            file.unlink()\n",
    "        file.touch()\n",
    "        self.df.to_csv(file, index=False)"
   ]
  },
  {
   "cell_type": "code",
   "execution_count": 514,
   "metadata": {},
   "outputs": [],
   "source": [
    "# Project root\n",
    "ROOT = Path(\".\").resolve().parent\n",
    "\n",
    "# Dataset Directories\n",
    "DATASETS = Path(\"F:/Datasets/\")\n",
    "CV19_ICD = DATASETS.joinpath(\"COVID Image Collection Data\")\n",
    "CV19_xCT = DATASETS.joinpath(\"COVIDx-CT\")\n",
    "NORMAL = DATASETS.joinpath(\"Chest X-ray Pneumonia/train/NORMAL\")\n",
    "\n",
    "# Experimental Dataset\n",
    "EXP_DATASET = ROOT.joinpath(\"dataset\")\n",
    "EXP_CV = EXP_DATASET.joinpath(\"COVID-19\")\n",
    "EXP_NONCV = EXP_DATASET.joinpath(\"NON-COVID\")"
   ]
  },
  {
   "cell_type": "code",
   "execution_count": 515,
   "metadata": {
    "pycharm": {
     "name": "#%%\n"
    }
   },
   "outputs": [],
   "source": [
    "builder = DatasetBuilder(EXP_DATASET, EXP_CV, EXP_NONCV)"
   ]
  },
  {
   "cell_type": "code",
   "execution_count": 516,
   "outputs": [
    {
     "name": "stdout",
     "output_type": "stream",
     "text": [
      "--------------------------------------------------\n",
      "Filtering COVID Image Collection Data\n",
      "Old Shape: (950, 30)\n",
      "New Shape: (308, 7)\n",
      "Filtering Complete\n",
      "--------------------------------------------------\n",
      "\n",
      "--------------------------------------------------\n",
      "Transferring images from COVID Image Collection Data\n",
      "Transfer Complete\n",
      "--------------------------------------------------\n",
      "--------------------------------------------------\n",
      "Filtering COVIDx-CT\n",
      "Old Shape: (3792, 10)\n",
      "New Shape: (2201, 6)\n",
      "Filtering Complete\n",
      "--------------------------------------------------\n",
      "\n",
      "--------------------------------------------------\n",
      "Transferring images from COVIDx-CT\n",
      "Transfer Complete\n",
      "--------------------------------------------------\n",
      "--------------------------------------------------\n",
      "Transferring images from NORMAL\n",
      "Transfer Complete\n",
      "--------------------------------------------------\n"
     ]
    }
   ],
   "source": [
    "builder.MoveImages(builder.Filter(CV19_ICD))\n",
    "builder.MoveImages(builder.Filter(CV19_xCT))\n",
    "builder.MoveImages([None, NORMAL])"
   ],
   "metadata": {
    "collapsed": false,
    "pycharm": {
     "name": "#%%\n"
    }
   }
  },
  {
   "cell_type": "code",
   "execution_count": null,
   "outputs": [],
   "source": [],
   "metadata": {
    "collapsed": false,
    "pycharm": {
     "name": "#%%\n"
    }
   }
  }
 ],
 "metadata": {
  "kernelspec": {
   "display_name": "Python 3",
   "language": "python",
   "name": "python3"
  },
  "language_info": {
   "codemirror_mode": {
    "name": "ipython",
    "version": 3
   },
   "file_extension": ".py",
   "mimetype": "text/x-python",
   "name": "python",
   "nbconvert_exporter": "python",
   "pygments_lexer": "ipython3",
   "version": "3.8.7"
  }
 },
 "nbformat": 4,
 "nbformat_minor": 4
}